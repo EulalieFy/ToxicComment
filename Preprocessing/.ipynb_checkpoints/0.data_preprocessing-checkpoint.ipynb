{
 "cells": [
  {
   "cell_type": "code",
   "execution_count": 1,
   "metadata": {
    "collapsed": true
   },
   "outputs": [],
   "source": [
    "# Import modules\n",
    "\n",
    "import pandas as pd \n",
    "import numpy as np\n",
    "import sys\n",
    "import nltk\n",
    "import matplotlib.pyplot as plt\n",
    "import pickle\n",
    "\n",
    "import torch\n",
    "import torch.utils.data as utils\n",
    "import torchwordemb\n",
    "\n",
    "from multiprocessing import Pool\n",
    "\n",
    "sys.path.append('/home/hugoperrin/Bureau/Data science/Kaggle/ToxicComment/Preprocessing/')\n",
    "from data_preprocessing import text_to_caractlist, Carac2Vect\n",
    "\n",
    "%matplotlib inline"
   ]
  },
  {
   "cell_type": "code",
   "execution_count": 2,
   "metadata": {
    "collapsed": true
   },
   "outputs": [],
   "source": [
    "# Load data and set embedding path\n",
    "\n",
    "train = pd.read_csv('data/train.csv')\n",
    "test = pd.read_csv('data/test.csv')\n",
    "# EMBEDDING_FILE = '/home/hugoperrin/Bureau/Datasets/Glove/glove.6B.50d.txt'"
   ]
  },
  {
   "cell_type": "code",
   "execution_count": 3,
   "metadata": {
    "collapsed": true
   },
   "outputs": [],
   "source": [
    "list_sentences_train = train['comment_text'].fillna('unknow').values\n",
    "list_sentences_test = test['comment_text'].fillna('unknow').values\n",
    "\n",
    "list_classes = ['toxic', 'severe_toxic', 'obscene', 'threat', 'insult', 'identity_hate']\n",
    "target = train[list_classes].values\n",
    "\n",
    "del train, test\n",
    "\n",
    "pool = Pool()\n",
    "list_sentences_train = pool.map(text_to_caractlist, list_sentences_train)\n",
    "list_sentences_test = pool.map(text_to_caractlist, list_sentences_test)\n",
    "pool.close()"
   ]
  },
  {
   "cell_type": "code",
   "execution_count": 4,
   "metadata": {
    "collapsed": true
   },
   "outputs": [],
   "source": [
    "# Set parameters\n",
    "\n",
    "# embedding_size = 100   # how big is each word vector\n",
    "# maxfeatures = 20000    # how many unique words to use (i.e num rows in embedding vector)\n",
    "# maxlen = 200           # max number of words in a comment to use\n",
    "\n",
    "# vocab, vec = torchwordemb.load_glove_text(EMBEDDING_FILE)"
   ]
  },
  {
   "cell_type": "code",
   "execution_count": 5,
   "metadata": {
    "collapsed": true
   },
   "outputs": [],
   "source": [
    "pool = Pool()\n",
    "list_sentences_train = pool.map(Carac2Vect, list_sentences_train)\n",
    "list_sentences_test = pool.map(Carac2Vect, list_sentences_test)\n",
    "pool.close()"
   ]
  },
  {
   "cell_type": "code",
   "execution_count": 6,
   "metadata": {
    "collapsed": true
   },
   "outputs": [],
   "source": [
    "pkl_file = open('/home/hugoperrin/Bureau/Data science/Kaggle/Toxic Comments/data/preprocessed_data.pkl', 'wb')\n",
    "save = {\n",
    "        'train_comments': np.array(list_sentences_train),\n",
    "        'test_comments': np.array(list_sentences_test),\n",
    "        'train_labels': np.array(target)\n",
    "        }\n",
    "pickle.dump(save, pkl_file)\n",
    "pkl_file.close()"
   ]
  }
 ],
 "metadata": {
  "kernelspec": {
   "display_name": "Python 3",
   "language": "python",
   "name": "python3"
  },
  "language_info": {
   "codemirror_mode": {
    "name": "ipython",
    "version": 3
   },
   "file_extension": ".py",
   "mimetype": "text/x-python",
   "name": "python",
   "nbconvert_exporter": "python",
   "pygments_lexer": "ipython3",
   "version": "3.6.3"
  }
 },
 "nbformat": 4,
 "nbformat_minor": 2
}
