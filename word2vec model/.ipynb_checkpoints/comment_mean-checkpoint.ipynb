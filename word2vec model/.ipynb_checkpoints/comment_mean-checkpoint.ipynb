{
 "cells": [
  {
   "cell_type": "markdown",
   "metadata": {},
   "source": [
    "# Modules"
   ]
  },
  {
   "cell_type": "code",
   "execution_count": 1,
   "metadata": {
    "collapsed": true
   },
   "outputs": [],
   "source": [
    "import pandas as pd\n",
    "import numpy as np\n",
    "import re\n",
    "import gensim\n",
    "from gensim.models import Word2Vec\n",
    "from gensim.models import doc2vec\n",
    "from scipy.spatial import distance\n",
    "from nltk.corpus import stopwords\n",
    "from gensim.models.doc2vec import LabeledSentence"
   ]
  },
  {
   "cell_type": "markdown",
   "metadata": {},
   "source": [
    "# Data"
   ]
  },
  {
   "cell_type": "code",
   "execution_count": 2,
   "metadata": {
    "collapsed": true
   },
   "outputs": [],
   "source": [
    "path = '/home/hugoperrin/Bureau/Datasets/ToxicComment/'\n",
    "\n",
    "train=pd.read_csv(path + 'train.csv')\n",
    "test=pd.read_csv(path + 'test.csv')"
   ]
  },
  {
   "cell_type": "code",
   "execution_count": 3,
   "metadata": {},
   "outputs": [
    {
     "data": {
      "text/plain": [
       "((159571, 8), (153164, 2))"
      ]
     },
     "execution_count": 3,
     "metadata": {},
     "output_type": "execute_result"
    }
   ],
   "source": [
    "train.shape, test.shape"
   ]
  },
  {
   "cell_type": "code",
   "execution_count": 4,
   "metadata": {
    "collapsed": true
   },
   "outputs": [],
   "source": [
    "# comment_list=train['comment_text'].tolist()"
   ]
  },
  {
   "cell_type": "markdown",
   "metadata": {},
   "source": [
    "# Exploration"
   ]
  },
  {
   "cell_type": "code",
   "execution_count": 4,
   "metadata": {},
   "outputs": [
    {
     "name": "stdout",
     "output_type": "stream",
     "text": [
      "Nombre de commentaires: 159571\n",
      "Nombre de toxic: 15294\n",
      "Nombre de severe_toxic: 1595\n",
      "Nombre de obscene: 8449\n",
      "Nombre de threat: 478\n",
      "Nombre de identity hate: 1405\n",
      "Nombre de insult: 7877\n"
     ]
    }
   ],
   "source": [
    "print('Nombre de commentaires:', train.shape[0])\n",
    "print('Nombre de toxic:', train[train['toxic']==1].shape[0])\n",
    "print('Nombre de severe_toxic:', train[train['severe_toxic']==1].shape[0])\n",
    "print('Nombre de obscene:', train[train['obscene']==1].shape[0])\n",
    "print('Nombre de threat:', train[train['threat']==1].shape[0])\n",
    "print('Nombre de identity hate:', train[train['identity_hate']==1].shape[0])\n",
    "print('Nombre de insult:', train[train['insult']==1].shape[0])"
   ]
  },
  {
   "cell_type": "code",
   "execution_count": 5,
   "metadata": {},
   "outputs": [
    {
     "data": {
      "text/html": [
       "<div>\n",
       "<style>\n",
       "    .dataframe thead tr:only-child th {\n",
       "        text-align: right;\n",
       "    }\n",
       "\n",
       "    .dataframe thead th {\n",
       "        text-align: left;\n",
       "    }\n",
       "\n",
       "    .dataframe tbody tr th {\n",
       "        vertical-align: top;\n",
       "    }\n",
       "</style>\n",
       "<table border=\"1\" class=\"dataframe\">\n",
       "  <thead>\n",
       "    <tr style=\"text-align: right;\">\n",
       "      <th></th>\n",
       "      <th>id</th>\n",
       "      <th>comment_text</th>\n",
       "      <th>toxic</th>\n",
       "      <th>severe_toxic</th>\n",
       "      <th>obscene</th>\n",
       "      <th>threat</th>\n",
       "      <th>insult</th>\n",
       "      <th>identity_hate</th>\n",
       "    </tr>\n",
       "  </thead>\n",
       "  <tbody>\n",
       "    <tr>\n",
       "      <th>6</th>\n",
       "      <td>0002bcb3da6cb337</td>\n",
       "      <td>COCKSUCKER BEFORE YOU PISS AROUND ON MY WORK</td>\n",
       "      <td>1</td>\n",
       "      <td>1</td>\n",
       "      <td>1</td>\n",
       "      <td>0</td>\n",
       "      <td>1</td>\n",
       "      <td>0</td>\n",
       "    </tr>\n",
       "    <tr>\n",
       "      <th>42</th>\n",
       "      <td>001810bf8c45bf5f</td>\n",
       "      <td>You are gay or antisemmitian? \\n\\nArchangel WH...</td>\n",
       "      <td>1</td>\n",
       "      <td>0</td>\n",
       "      <td>1</td>\n",
       "      <td>0</td>\n",
       "      <td>1</td>\n",
       "      <td>1</td>\n",
       "    </tr>\n",
       "    <tr>\n",
       "      <th>43</th>\n",
       "      <td>00190820581d90ce</td>\n",
       "      <td>FUCK YOUR FILTHY MOTHER IN THE ASS, DRY!</td>\n",
       "      <td>1</td>\n",
       "      <td>0</td>\n",
       "      <td>1</td>\n",
       "      <td>0</td>\n",
       "      <td>1</td>\n",
       "      <td>0</td>\n",
       "    </tr>\n",
       "    <tr>\n",
       "      <th>55</th>\n",
       "      <td>0020e7119b96eeeb</td>\n",
       "      <td>Stupid peace of shit stop deleting my stuff as...</td>\n",
       "      <td>1</td>\n",
       "      <td>1</td>\n",
       "      <td>1</td>\n",
       "      <td>0</td>\n",
       "      <td>1</td>\n",
       "      <td>0</td>\n",
       "    </tr>\n",
       "    <tr>\n",
       "      <th>56</th>\n",
       "      <td>0020fd96ed3b8c8b</td>\n",
       "      <td>=Tony Sidaway is obviously a fistfuckee. He lo...</td>\n",
       "      <td>1</td>\n",
       "      <td>0</td>\n",
       "      <td>1</td>\n",
       "      <td>0</td>\n",
       "      <td>1</td>\n",
       "      <td>0</td>\n",
       "    </tr>\n",
       "  </tbody>\n",
       "</table>\n",
       "</div>"
      ],
      "text/plain": [
       "                  id                                       comment_text  \\\n",
       "6   0002bcb3da6cb337       COCKSUCKER BEFORE YOU PISS AROUND ON MY WORK   \n",
       "42  001810bf8c45bf5f  You are gay or antisemmitian? \\n\\nArchangel WH...   \n",
       "43  00190820581d90ce           FUCK YOUR FILTHY MOTHER IN THE ASS, DRY!   \n",
       "55  0020e7119b96eeeb  Stupid peace of shit stop deleting my stuff as...   \n",
       "56  0020fd96ed3b8c8b  =Tony Sidaway is obviously a fistfuckee. He lo...   \n",
       "\n",
       "    toxic  severe_toxic  obscene  threat  insult  identity_hate  \n",
       "6       1             1        1       0       1              0  \n",
       "42      1             0        1       0       1              1  \n",
       "43      1             0        1       0       1              0  \n",
       "55      1             1        1       0       1              0  \n",
       "56      1             0        1       0       1              0  "
      ]
     },
     "execution_count": 5,
     "metadata": {},
     "output_type": "execute_result"
    }
   ],
   "source": [
    "train[train['insult']==1].head()"
   ]
  },
  {
   "cell_type": "code",
   "execution_count": 7,
   "metadata": {},
   "outputs": [
    {
     "name": "stdout",
     "output_type": "stream",
     "text": [
      "Nombre de commentaires considéré comme insulte non toxiques: 533\n",
      "On en déduit que tous les commentaires classé dans une catégories ne sont pas nécessairement toxiques \n"
     ]
    }
   ],
   "source": [
    "print('Nombre de commentaires considéré comme insulte non toxiques:',train[(train['toxic']==0)&(train['insult']==1)].shape[0])\n",
    "print('On en déduit que tous les commentaires classé dans une catégories ne sont pas nécessairement toxiques ')"
   ]
  },
  {
   "cell_type": "markdown",
   "metadata": {},
   "source": [
    "# Préparation des données"
   ]
  },
  {
   "cell_type": "code",
   "execution_count": 6,
   "metadata": {
    "collapsed": true
   },
   "outputs": [],
   "source": [
    "def text_to_words(raw_text, remove_stopwords):\n",
    "    # 1. Remove non-letters, but including numbers\n",
    "    letters_only = re.sub(\"[^0-9a-zA-Z]\", \" \", raw_text)\n",
    "    #letters_only = re.sub(\"[^0-9a-zA-Z]\", \" \", raw_text)\n",
    "    # 2. Convert to lower case, split into individual words\n",
    "    words = letters_only.lower().split()\n",
    "    if remove_stopwords:\n",
    "        stops = set(stopwords.words(\"english\")) # In Python, searching a set is much faster than searching\n",
    "        meaningful_words = [w for w in words if not w in stops] # Remove stop words\n",
    "        words = meaningful_words\n",
    "    return words \n",
    "\n",
    "# With stop words\n",
    "sentences_train = train['comment_text'].apply(text_to_words, remove_stopwords=False)\n",
    "sentences_test = test['comment_text'].apply(text_to_words, remove_stopwords=False)"
   ]
  },
  {
   "cell_type": "code",
   "execution_count": null,
   "metadata": {
    "collapsed": true
   },
   "outputs": [],
   "source": [
    "p = Pool()\n",
    "length = np.array(p.map(len, sentences_train.tolist()+sentences_test.tolist()))\n",
    "p.close()\n",
    "print('Nombre de mots moyen: %d, nombre de mots médian: %d' %(np.mean(length),np.median(length)))"
   ]
  },
  {
   "cell_type": "code",
   "execution_count": 8,
   "metadata": {},
   "outputs": [
    {
     "data": {
      "text/plain": [
       "312735"
      ]
     },
     "execution_count": 8,
     "metadata": {},
     "output_type": "execute_result"
    }
   ],
   "source": [
    "print('Nombre total de commentaires: %d' %len(sentences_train.tolist()+sentences_test.tolist()))"
   ]
  },
  {
   "cell_type": "markdown",
   "metadata": {},
   "source": [
    "# Creation des word embeddings"
   ]
  },
  {
   "cell_type": "code",
   "execution_count": 9,
   "metadata": {},
   "outputs": [
    {
     "name": "stdout",
     "output_type": "stream",
     "text": [
      "CPU times: user 3min 48s, sys: 1.04 s, total: 3min 49s\n",
      "Wall time: 57.6 s\n"
     ]
    }
   ],
   "source": [
    "%time model = Word2Vec(sentences_train.tolist()+sentences_test.tolist(),min_count=1,size=100, workers=8)"
   ]
  },
  {
   "cell_type": "code",
   "execution_count": 12,
   "metadata": {},
   "outputs": [
    {
     "data": {
      "text/plain": [
       "309869"
      ]
     },
     "execution_count": 12,
     "metadata": {},
     "output_type": "execute_result"
    }
   ],
   "source": [
    "print('Vocab size: %d' %len(model.wv.vocab))"
   ]
  },
  {
   "cell_type": "code",
   "execution_count": 22,
   "metadata": {},
   "outputs": [
    {
     "data": {
      "text/plain": [
       "[('shyt', 0.7102489471435547),\n",
       " ('yo', 0.7061656713485718),\n",
       " ('mutha', 0.6966544389724731),\n",
       " ('mofo', 0.6902562379837036),\n",
       " ('thinkin', 0.6866225004196167),\n",
       " ('bum', 0.6807107925415039),\n",
       " ('fucka', 0.6724961996078491),\n",
       " ('dis', 0.6706854104995728),\n",
       " ('mamma', 0.6691553592681885),\n",
       " ('homie', 0.6655347347259521)]"
      ]
     },
     "execution_count": 22,
     "metadata": {},
     "output_type": "execute_result"
    }
   ],
   "source": [
    "model.most_similar('nigga')"
   ]
  },
  {
   "cell_type": "markdown",
   "metadata": {},
   "source": [
    "# Mean vector for each comment"
   ]
  },
  {
   "cell_type": "code",
   "execution_count": 14,
   "metadata": {
    "collapsed": true
   },
   "outputs": [],
   "source": [
    "Mat_ref = np.zeros((len(sentences_train),100),dtype=\"float32\")\n",
    "for i in range(len(sentences_train)):\n",
    "    Mat_ref[i,]=model.wv[sentences_train[i]].sum(0)/len(sentences_train[i])  \n",
    "\n",
    "np.save('/home/hugoperrin/Bureau/Datasets/ToxicComment/Comment2Vec_train.npy', Mat_ref)"
   ]
  },
  {
   "cell_type": "code",
   "execution_count": 22,
   "metadata": {
    "collapsed": true
   },
   "outputs": [],
   "source": [
    "Mat_ref = np.zeros((len(sentences_test),100),dtype=\"float32\")\n",
    "for i in range(len(sentences_test)):\n",
    "    try:\n",
    "        Mat_ref[i,]=model.wv[sentences_test[i]].sum(0)/len(sentences_test[i]) \n",
    "    except:\n",
    "        Mat_ref[i,]=np.zeros((1,100),dtype=\"float32\")\n",
    "\n",
    "np.save('/home/hugoperrin/Bureau/Datasets/ToxicComment/Comment2Vec_test.npy', Mat_ref)"
   ]
  },
  {
   "cell_type": "markdown",
   "metadata": {},
   "source": [
    "# Comment2Vec exploration "
   ]
  },
  {
   "cell_type": "code",
   "execution_count": 210,
   "metadata": {
    "collapsed": true
   },
   "outputs": [],
   "source": [
    "train_comments_w2v=pd.DataFrame(Mat_ref)\n",
    "train_comments_w2v.to_csv(\"train_comments_w2v.csv\")"
   ]
  },
  {
   "cell_type": "code",
   "execution_count": null,
   "metadata": {
    "collapsed": true
   },
   "outputs": [],
   "source": [
    "train_comments_w2v.head()"
   ]
  },
  {
   "cell_type": "code",
   "execution_count": 93,
   "metadata": {
    "collapsed": true
   },
   "outputs": [],
   "source": [
    "##a creuser\n",
    "\n",
    "def most_similar_comment(comment):\n",
    "    lista=[]\n",
    "    for i in range(comment_list):\n",
    "        b= np.array(Mat_ref[i])\n",
    "        a= Mat_ref[comment]\n",
    "        dst=distance.cosine(a, b)\n",
    "        print(dst)\n",
    "        lista.append(dst)\n",
    "#on prend la deuxieme valeur minimale\n",
    "    u=lista.index(sorted(lista)[1])\n",
    "    v=comment_list[u]\n",
    "    print(v)"
   ]
  },
  {
   "cell_type": "code",
   "execution_count": 94,
   "metadata": {},
   "outputs": [
    {
     "data": {
      "text/plain": [
       "array([ 0.07535175, -0.85153466,  0.12985575, -0.3485038 ,  0.51634884,\n",
       "       -0.17087087,  1.9744736 ,  0.91666716,  0.22102638, -1.27888274,\n",
       "        0.3578459 ,  0.29001927, -0.80352706,  0.55825502, -0.9047718 ,\n",
       "        1.56521225, -0.00454149,  0.18085954,  1.40038097, -0.2569921 ,\n",
       "       -1.78010082, -0.07857239, -0.92071813,  0.19051269, -0.62165862,\n",
       "       -0.45281696, -1.17870092, -1.0245986 ,  0.08645821, -0.76097155,\n",
       "       -0.27727783, -0.65798748,  0.35650185,  0.1941746 , -0.47701931,\n",
       "        0.1618941 ,  0.36496913, -0.39012837, -0.94928765,  1.02819788,\n",
       "       -0.29291013, -0.3047083 ,  0.41594252, -0.8088001 ,  0.93490124,\n",
       "       -0.87048751,  0.92747247, -0.2074167 ,  0.12084217, -0.08398182,\n",
       "       -0.11064754, -1.49293411, -0.50134403, -0.87234056,  0.21378523,\n",
       "        0.49643192, -0.33052558,  0.1858481 , -0.88144088,  0.38988125,\n",
       "        0.05891834, -1.04628146,  0.26619589,  0.64142299, -0.51320249,\n",
       "       -0.82635808,  0.06913158, -0.68545991, -0.18035935,  0.87433887,\n",
       "       -0.48709533, -0.06055783,  0.2148286 ,  0.68589312, -1.00585842,\n",
       "        0.26478037,  0.66231614, -0.20070985,  0.25984749,  0.31342247,\n",
       "        0.75980574, -0.41814536,  0.61921704, -0.01255083,  1.01069415,\n",
       "        0.90385646,  0.00619909, -0.22248413,  0.61814553,  1.72240901,\n",
       "        0.47243372,  1.29887021, -0.80969191,  0.6252858 ,  1.86673772,\n",
       "        2.40991783, -0.72151589, -0.81706429, -0.49755305, -0.14751656], dtype=float32)"
      ]
     },
     "execution_count": 94,
     "metadata": {},
     "output_type": "execute_result"
    }
   ],
   "source": [
    "np.array(Mat_ref[i])"
   ]
  },
  {
   "cell_type": "code",
   "execution_count": 164,
   "metadata": {
    "collapsed": true
   },
   "outputs": [],
   "source": [
    "labeled_comments=[]\n",
    "for i in range(len(sentences_list)):\n",
    "    labeled_comments.append(LabeledSentence(words=sentences_list[i], tags=[id_list[i]]))"
   ]
  },
  {
   "cell_type": "code",
   "execution_count": 125,
   "metadata": {
    "collapsed": true
   },
   "outputs": [],
   "source": [
    "sentences_list=sentences_train.tolist()\n",
    "id_list=train['id'].tolist()"
   ]
  },
  {
   "cell_type": "code",
   "execution_count": 136,
   "metadata": {
    "collapsed": true
   },
   "outputs": [],
   "source": [
    "model_d2v = gensim.models.Doc2Vec(labeled_comments)"
   ]
  },
  {
   "cell_type": "code",
   "execution_count": 159,
   "metadata": {
    "collapsed": true
   },
   "outputs": [],
   "source": [
    "def most_sim_d2v(comment_id):\n",
    "    print('Comment:',train[train['id']==comment_id]['comment_text'])\n",
    "    most_sim=model_d2v.docvecs.most_similar(comment_id,topn=10)\n",
    "    print('10 most similar comments:')\n",
    "    for i in range(len(most_sim)):\n",
    "        print(train[train['id']==most_sim[i][0]]['comment_text'])\n",
    "    "
   ]
  },
  {
   "cell_type": "code",
   "execution_count": 162,
   "metadata": {},
   "outputs": [
    {
     "data": {
      "text/plain": [
       "[('9f1956011b8f3813', 0.9043959379196167),\n",
       " ('de2fda24221bf8e3', 0.9035018682479858),\n",
       " ('403e1ad458d28fb9', 0.900415301322937),\n",
       " ('fcb14ba4a8a9ce3e', 0.8997960090637207),\n",
       " ('e3a130469e30aa44', 0.8978034257888794),\n",
       " ('0232e2de22311164', 0.8975162506103516),\n",
       " ('3ff5f55c0f083853', 0.8974905014038086),\n",
       " ('6df36bf15864c4b6', 0.897163987159729),\n",
       " ('093a31ee04c6565f', 0.8959699273109436),\n",
       " ('199ec3f36ccbd9d3', 0.8953325748443604)]"
      ]
     },
     "execution_count": 162,
     "metadata": {},
     "output_type": "execute_result"
    }
   ],
   "source": [
    "model_d2v.docvecs.most_similar('ff39a2895fc3b40e',topn=10)"
   ]
  },
  {
   "cell_type": "code",
   "execution_count": 163,
   "metadata": {},
   "outputs": [
    {
     "data": {
      "text/html": [
       "<div>\n",
       "<style>\n",
       "    .dataframe thead tr:only-child th {\n",
       "        text-align: right;\n",
       "    }\n",
       "\n",
       "    .dataframe thead th {\n",
       "        text-align: left;\n",
       "    }\n",
       "\n",
       "    .dataframe tbody tr th {\n",
       "        vertical-align: top;\n",
       "    }\n",
       "</style>\n",
       "<table border=\"1\" class=\"dataframe\">\n",
       "  <thead>\n",
       "    <tr style=\"text-align: right;\">\n",
       "      <th></th>\n",
       "      <th>id</th>\n",
       "      <th>comment_text</th>\n",
       "      <th>toxic</th>\n",
       "      <th>severe_toxic</th>\n",
       "      <th>obscene</th>\n",
       "      <th>threat</th>\n",
       "      <th>insult</th>\n",
       "      <th>identity_hate</th>\n",
       "    </tr>\n",
       "  </thead>\n",
       "  <tbody>\n",
       "    <tr>\n",
       "      <th>125458</th>\n",
       "      <td>9f1956011b8f3813</td>\n",
       "      <td>\"\\n\\nFair use rationale for Image:Chamillionai...</td>\n",
       "      <td>0</td>\n",
       "      <td>0</td>\n",
       "      <td>0</td>\n",
       "      <td>0</td>\n",
       "      <td>0</td>\n",
       "      <td>0</td>\n",
       "    </tr>\n",
       "  </tbody>\n",
       "</table>\n",
       "</div>"
      ],
      "text/plain": [
       "                      id                                       comment_text  \\\n",
       "125458  9f1956011b8f3813  \"\\n\\nFair use rationale for Image:Chamillionai...   \n",
       "\n",
       "        toxic  severe_toxic  obscene  threat  insult  identity_hate  \n",
       "125458      0             0        0       0       0              0  "
      ]
     },
     "execution_count": 163,
     "metadata": {},
     "output_type": "execute_result"
    }
   ],
   "source": [
    "train[train['id']=='9f1956011b8f3813']"
   ]
  },
  {
   "cell_type": "code",
   "execution_count": 161,
   "metadata": {},
   "outputs": [
    {
     "name": "stdout",
     "output_type": "stream",
     "text": [
      "Comment: 159514    YOU ARE A MISCHIEVIOUS PUBIC HAIR\n",
      "Name: comment_text, dtype: object\n",
      "10 most similar comments:\n",
      "125458    \"\\n\\nFair use rationale for Image:Chamillionai...\n",
      "Name: comment_text, dtype: object\n",
      "157439    REDIRECT Talk:Hannah Hodson (actress)\n",
      "Name: comment_text, dtype: object\n",
      "24330    January 2015 \\nhttp://en.wikipedia.org/wiki/Al...\n",
      "Name: comment_text, dtype: object\n",
      "142999    Welcome!\\n\\nHello, , and welcome to Wikipedia!...\n",
      "Name: comment_text, dtype: object\n",
      "85071    Hello, , and welcome to Wikipedia! Thank you f...\n",
      "Name: comment_text, dtype: object\n",
      "823    Barnes                  Aus     1             ...\n",
      "Name: comment_text, dtype: object\n",
      "147667    \"\\n\\nSpeedy deletion of Tannas DJ/Producer\\n A...\n",
      "Name: comment_text, dtype: object\n",
      "116344    The article Mr. Rivado has been speedily delet...\n",
      "Name: comment_text, dtype: object\n",
      "3428    Birthday \\n\\nBorn: March 31, 1978 in New York ...\n",
      "Name: comment_text, dtype: object\n",
      "9680    REDIRECT Talk:James Aitken (bishop)\n",
      "Name: comment_text, dtype: object\n"
     ]
    }
   ],
   "source": [
    "most_sim_d2v('ff39a2895fc3b40e')"
   ]
  },
  {
   "cell_type": "code",
   "execution_count": 153,
   "metadata": {},
   "outputs": [
    {
     "data": {
      "text/plain": [
       "'c4d73a9da5fce32a'"
      ]
     },
     "execution_count": 153,
     "metadata": {},
     "output_type": "execute_result"
    }
   ],
   "source": [
    "model_d2v.docvecs.most_similar('ef0345f6b5ee4573',topn=10)[1][0]"
   ]
  },
  {
   "cell_type": "code",
   "execution_count": 151,
   "metadata": {},
   "outputs": [
    {
     "data": {
      "text/html": [
       "<div>\n",
       "<style>\n",
       "    .dataframe thead tr:only-child th {\n",
       "        text-align: right;\n",
       "    }\n",
       "\n",
       "    .dataframe thead th {\n",
       "        text-align: left;\n",
       "    }\n",
       "\n",
       "    .dataframe tbody tr th {\n",
       "        vertical-align: top;\n",
       "    }\n",
       "</style>\n",
       "<table border=\"1\" class=\"dataframe\">\n",
       "  <thead>\n",
       "    <tr style=\"text-align: right;\">\n",
       "      <th></th>\n",
       "      <th>id</th>\n",
       "      <th>comment_text</th>\n",
       "      <th>toxic</th>\n",
       "      <th>severe_toxic</th>\n",
       "      <th>obscene</th>\n",
       "      <th>threat</th>\n",
       "      <th>insult</th>\n",
       "      <th>identity_hate</th>\n",
       "    </tr>\n",
       "  </thead>\n",
       "  <tbody>\n",
       "    <tr>\n",
       "      <th>140356</th>\n",
       "      <td>ef0345f6b5ee4573</td>\n",
       "      <td>Yeah yeah yeah... get a life faggot. 67.176.98.94</td>\n",
       "      <td>1</td>\n",
       "      <td>0</td>\n",
       "      <td>1</td>\n",
       "      <td>0</td>\n",
       "      <td>0</td>\n",
       "      <td>0</td>\n",
       "    </tr>\n",
       "  </tbody>\n",
       "</table>\n",
       "</div>"
      ],
      "text/plain": [
       "                      id                                       comment_text  \\\n",
       "140356  ef0345f6b5ee4573  Yeah yeah yeah... get a life faggot. 67.176.98.94   \n",
       "\n",
       "        toxic  severe_toxic  obscene  threat  insult  identity_hate  \n",
       "140356      1             0        1       0       0              0  "
      ]
     },
     "execution_count": 151,
     "metadata": {},
     "output_type": "execute_result"
    }
   ],
   "source": [
    "train[train['id']=='ef0345f6b5ee4573']"
   ]
  }
 ],
 "metadata": {
  "kernelspec": {
   "display_name": "Python 3",
   "language": "python",
   "name": "python3"
  },
  "language_info": {
   "codemirror_mode": {
    "name": "ipython",
    "version": 3
   },
   "file_extension": ".py",
   "mimetype": "text/x-python",
   "name": "python",
   "nbconvert_exporter": "python",
   "pygments_lexer": "ipython3",
   "version": "3.6.3"
  }
 },
 "nbformat": 4,
 "nbformat_minor": 2
}
